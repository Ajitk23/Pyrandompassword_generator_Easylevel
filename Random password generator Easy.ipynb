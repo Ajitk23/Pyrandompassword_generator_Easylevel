{
 "cells": [
  {
   "cell_type": "code",
   "execution_count": 1,
   "id": "806aa396",
   "metadata": {},
   "outputs": [
    {
     "name": "stdout",
     "output_type": "stream",
     "text": [
      "Welcome to the pyPassword Generator!\n",
      "How many letters would you like in your password? \n",
      "2\n",
      "How many symbols would you like in your password? \n",
      "2\n",
      "How many numbers would you like in your password? \n",
      "2\n",
      "qJ*)58\n"
     ]
    }
   ],
   "source": [
    "import random\n",
    "letters = ['b', 'V', 'J', 'q', 's', 'X', 'a', 'N', 'c', 'B', 'f', 'D', 'O', 'n', 'P', 'l', 'u', 'G', 'Y', 'y', 'I', 'v', 'x', 'o', 'k', 'W', 'm', 'C', 'g', 'M', 'w', 'S', 'H', 'F', 'K', 'U', 'd', 'e', 'i', 'r', 'j', 'T', 'R', 'E', 'p', 'Q', 'h', 't', 'L', 'A', 'z']\n",
    "numbers = ['1', '2', '3', '4', '5', '6', '7', '8', '9']\n",
    "symbols = ['!', '#', '$', '%', '&', '(', ')', '*', '+']\n",
    "\n",
    "print(\"Welcome to the pyPassword Generator!\")\n",
    "\n",
    "choose_letters = int(input(\"How many letters would you like in your password? \\n\"))\n",
    "choose_symbols = int(input(\"How many symbols would you like in your password? \\n\"))\n",
    "choose_numbers = int(input(\"How many numbers would you like in your password? \\n\"))\n",
    "password = \"\"\n",
    "\n",
    "for letter in range (1, choose_letters+1):\n",
    "    password += random.choice(letters)\n",
    "for symbol in range(1, choose_symbols+1):\n",
    "    password += random.choice(symbols)\n",
    "for number in range(1, choose_numbers+1):\n",
    "    password += random.choice(numbers)\n",
    "    \n",
    "print(password)"
   ]
  }
 ],
 "metadata": {
  "kernelspec": {
   "display_name": "Python 3 (ipykernel)",
   "language": "python",
   "name": "python3"
  },
  "language_info": {
   "codemirror_mode": {
    "name": "ipython",
    "version": 3
   },
   "file_extension": ".py",
   "mimetype": "text/x-python",
   "name": "python",
   "nbconvert_exporter": "python",
   "pygments_lexer": "ipython3",
   "version": "3.10.9"
  }
 },
 "nbformat": 4,
 "nbformat_minor": 5
}
